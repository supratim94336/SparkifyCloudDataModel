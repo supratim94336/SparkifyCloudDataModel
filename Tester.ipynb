{
 "cells": [
  {
   "cell_type": "code",
   "execution_count": null,
   "metadata": {},
   "outputs": [],
   "source": [
    "import configparser\n",
    "\n",
    "config = configparser.ConfigParser()\n",
    "config.read_file(open('dwh.cfg'))\n",
    "\n",
    "# amazon aws\n",
    "KEY = config.get('AWS', 'key')\n",
    "SECRET = config.get('AWS', 'secret')\n",
    "\n",
    "# Redshift\n",
    "DWH_DB = config.get('DWH', 'DWH_DB')\n",
    "DWH_DB_USER = config.get('DWH', 'DWH_DB_USER')\n",
    "DWH_DB_PASSWORD = config.get('DWH', 'DWH_DB_PASSWORD')\n",
    "DWH_PORT = config.get('DWH', 'DWH_PORT')\n",
    "DWH_CLUSTER_TYPE = config.get('DWH', 'DWH_CLUSTER_TYPE')\n",
    "DWH_NUM_NODES = config.get('DWH', 'DWH_NUM_NODES')\n",
    "DWH_NODE_TYPE = config.get('DWH', 'DWH_NODE_TYPE')\n",
    "DWH_IAM_ROLE_NAME = config.get('DWH', 'DWH_IAM_ROLE_NAME')\n",
    "DWH_CLUSTER_IDENTIFIER = config.get('DWH', 'DWH_CLUSTER_IDENTIFIER')\n",
    "DWH_SCHEMA = config.get('DWH', 'DWH_SCHEMA')\n",
    "DWH_STAGING_TABLE = config.get('DWH', 'DWH_STAGING_TABLE')\n",
    "\n",
    "# s3\n",
    "S3_BUCKET = config.get('S3', 'S3_BUCKET_JSON_PATH')"
   ]
  },
  {
   "cell_type": "code",
   "execution_count": null,
   "metadata": {},
   "outputs": [],
   "source": [
    "import boto3\n",
    "from config import *\n",
    "import json\n",
    "from botocore.exceptions import ClientError\n",
    "import time\n",
    "\n",
    "iam = boto3.client('iam', aws_access_key_id=KEY,\n",
    "                       aws_secret_access_key=SECRET,\n",
    "                       region_name='us-west-2'\n",
    "                       )\n",
    "try:\n",
    "    iam.create_role(Path='/',\n",
    "                    RoleName=DWH_IAM_ROLE_NAME,\n",
    "                    Description=\"Allows Redshift clusters to call AWS services on your behalf.\",\n",
    "                    AssumeRolePolicyDocument=json.dumps(\n",
    "                        {'Statement': [{'Action': 'sts:AssumeRole',\n",
    "                          'Effect': 'Allow',\n",
    "                          'Principal': {'Service': 'redshift.amazonaws.com'}}],\n",
    "                         'Version': '2012-10-17'})\n",
    "                    )\n",
    "\n",
    "except ClientError as e:\n",
    "    print(f'ERROR: {e}')\n",
    "\n",
    "print(\"1.2 Attaching Policy\")\n",
    "\n",
    "iam.attach_role_policy(RoleName=DWH_IAM_ROLE_NAME,\n",
    "                       PolicyArn=\"arn:aws:iam::aws:policy/AmazonS3ReadOnlyAccess\"\n",
    "                       )['ResponseMetadata']['HTTPStatusCode']\n",
    "print(\"1.3 Get the IAM role ARN\")\n",
    "roleArn = iam.get_role(RoleName=DWH_IAM_ROLE_NAME)['Role']['Arn']\n",
    "print(roleArn)"
   ]
  },
  {
   "cell_type": "code",
   "execution_count": null,
   "metadata": {},
   "outputs": [],
   "source": [
    "iam.detach_role_policy(RoleName=DWH_IAM_ROLE_NAME, PolicyArn=\"arn:aws:iam::aws:policy/AmazonS3ReadOnlyAccess\")\n",
    "iam.delete_role(RoleName=DWH_IAM_ROLE_NAME)"
   ]
  },
  {
   "cell_type": "code",
   "execution_count": 5,
   "metadata": {},
   "outputs": [],
   "source": [
    "def create_iam_role():\n",
    "    iam = boto3.client('iam', aws_access_key_id=KEY,\n",
    "                       aws_secret_access_key=SECRET,\n",
    "                       region_name='us-west-2'\n",
    "                       )\n",
    "    print(\"1.1 creating role\")\n",
    "    try:\n",
    "        iam.create_role(Path='/',\n",
    "                        RoleName=DWH_IAM_ROLE_NAME,\n",
    "                        Description=\"Allows Redshift clusters to call AWS services on your behalf.\",\n",
    "                        AssumeRolePolicyDocument=json.dumps(\n",
    "                            {'Statement': [{'Action': 'sts:AssumeRole',\n",
    "                              'Effect': 'Allow',\n",
    "                              'Principal': {'Service': 'redshift.amazonaws.com'}}],\n",
    "                             'Version': '2012-10-17'})\n",
    "                        )\n",
    "\n",
    "    except ClientError as e:\n",
    "        print(f'ERROR: {e}')\n",
    "\n",
    "    print(\"1.2 Attaching Policy\")\n",
    "    try:\n",
    "        iam.attach_role_policy(RoleName=DWH_IAM_ROLE_NAME,\n",
    "                               PolicyArn=\"arn:aws:iam::aws:policy/AmazonS3ReadOnlyAccess\"\n",
    "                               )['ResponseMetadata']['HTTPStatusCode']\n",
    "    except ClientError as e:\n",
    "        print(f'ERROR: {e}')\n",
    "\n",
    "    print(\"1.3 Get the IAM role ARN\")\n",
    "    roleArn = iam.get_role(RoleName=DWH_IAM_ROLE_NAME)['Role']['Arn']\n",
    "    return roleArn"
   ]
  },
  {
   "cell_type": "code",
   "execution_count": null,
   "metadata": {},
   "outputs": [],
   "source": [
    "create_iam_role()"
   ]
  },
  {
   "cell_type": "code",
   "execution_count": null,
   "metadata": {},
   "outputs": [],
   "source": [
    "from botocore.exceptions import ClientError\n",
    "roleArn = 'arn:aws:iam::764499268961:role/dwh-role'\n",
    "redshift = boto3.client('redshift',\n",
    "                        region_name=\"us-west-2\",\n",
    "                        aws_access_key_id=KEY,\n",
    "                        aws_secret_access_key=SECRET\n",
    "                        )\n",
    "try:\n",
    "    response = redshift.create_cluster(        \n",
    "        #HW\n",
    "        ClusterType=DWH_CLUSTER_TYPE,\n",
    "        NodeType=DWH_NODE_TYPE,\n",
    "        NumberOfNodes=int(DWH_NUM_NODES),\n",
    "\n",
    "        #Identifiers & Credentials\n",
    "        DBName=DWH_DB,\n",
    "        ClusterIdentifier=DWH_CLUSTER_IDENTIFIER,\n",
    "        MasterUsername=DWH_DB_USER,\n",
    "        MasterUserPassword=DWH_DB_PASSWORD,\n",
    "        \n",
    "        #Roles (for s3 access)\n",
    "        IamRoles=[roleArn])\n",
    "except ClientError as e:\n",
    "        print(f'ERROR: {e}')\n",
    "\n"
   ]
  },
  {
   "cell_type": "code",
   "execution_count": null,
   "metadata": {},
   "outputs": [],
   "source": [
    "redshift.describe_clusters(ClusterIdentifier=DWH_CLUSTER_IDENTIFIER)['Clusters'][0]['Endpoint']['Address']"
   ]
  },
  {
   "cell_type": "code",
   "execution_count": null,
   "metadata": {},
   "outputs": [],
   "source": [
    "redshift.describe_clusters(ClusterIdentifier=DWH_CLUSTER_IDENTIFIER)['Clusters'][0]['ClusterStatus']"
   ]
  }
 ],
 "metadata": {
  "kernelspec": {
   "display_name": "Python 3",
   "language": "python",
   "name": "python3"
  },
  "language_info": {
   "codemirror_mode": {
    "name": "ipython",
    "version": 3
   },
   "file_extension": ".py",
   "mimetype": "text/x-python",
   "name": "python",
   "nbconvert_exporter": "python",
   "pygments_lexer": "ipython3",
   "version": "3.6.8"
  }
 },
 "nbformat": 4,
 "nbformat_minor": 1
}
